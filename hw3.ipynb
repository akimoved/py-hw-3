{
 "cells": [
  {
   "cell_type": "markdown",
   "metadata": {},
   "source": [
    "# Homework 3"
   ]
  },
  {
   "cell_type": "markdown",
   "metadata": {},
   "source": [
    "## Excercise 1"
   ]
  },
  {
   "cell_type": "code",
   "execution_count": 1,
   "metadata": {},
   "outputs": [
    {
     "name": "stdout",
     "output_type": "stream",
     "text": [
      "{98, 35, 15, 213, 54, 119}\n"
     ]
    }
   ],
   "source": [
    "ids = {'user1': [213, 213, 213, 15, 213], \n",
    "       'user2': [54, 54, 119, 119, 119], \n",
    "       'user3': [213, 98, 98, 35]}\n",
    "\n",
    "unique_markers = set()\n",
    "for line in ids.values():\n",
    "    unique_markers = unique_markers.union(line)\n",
    "            \n",
    "print(unique_markers)"
   ]
  },
  {
   "cell_type": "markdown",
   "metadata": {},
   "source": [
    "## Excercise 2"
   ]
  },
  {
   "cell_type": "code",
   "execution_count": 24,
   "metadata": {},
   "outputs": [
    {
     "name": "stdout",
     "output_type": "stream",
     "text": [
      "Поисковых запросов, содержащих 6 слов(а): 14.29%\n",
      "Поисковых запросов, содержащих 4 слов(а): 14.29%\n",
      "Поисковых запросов, содержащих 5 слов(а): 14.29%\n",
      "Поисковых запросов, содержащих 2 слов(а): 14.29%\n",
      "Поисковых запросов, содержащих 3 слов(а): 42.86%\n"
     ]
    }
   ],
   "source": [
    "queries = [\n",
    "    'смотреть сериалы онлайн бесплатно без регистрации',\n",
    "    'новости из мира спорта',\n",
    "    'афиша кино на эти выходные',\n",
    "    'курс йены',\n",
    "    'машина времени микроволновка',\n",
    "    'курс по нейробиологии',\n",
    "    'ставки на Loto6',\n",
    "]\n",
    "\n",
    "query_word_length = {}\n",
    "for query in queries:\n",
    "    query_word_length.setdefault(len(query.split(' ')),0)\n",
    "    query_word_length[len(query.split(' '))] += 1\n",
    "    \n",
    "for word_number, query_number in query_word_length.items():\n",
    "    print(f'Поисковых запросов, содержащих {word_number} слов(а): {round(query_number / len(queries) * 100,2)}%')"
   ]
  },
  {
   "cell_type": "markdown",
   "metadata": {},
   "source": [
    "## Excercise 3"
   ]
  },
  {
   "cell_type": "code",
   "execution_count": 40,
   "metadata": {},
   "outputs": [
    {
     "name": "stdout",
     "output_type": "stream",
     "text": [
      "{'vk': {'revenue': 103, 'cost': 98, 'ROI': 5.1}, 'yandex': {'revenue': 179, 'cost': 153, 'ROI': 16.99}, 'facebook': {'revenue': 103, 'cost': 110, 'ROI': -6.36}, 'adwords': {'revenue': 35, 'cost': 34, 'ROI': 2.94}, 'twitter': {'revenue': 11, 'cost': 24, 'ROI': -54.17}}\n"
     ]
    }
   ],
   "source": [
    "results = {\n",
    "    'vk': {'revenue': 103, 'cost': 98},\n",
    "    'yandex': {'revenue': 179, 'cost': 153},\n",
    "    'facebook': {'revenue': 103, 'cost': 110},\n",
    "    'adwords': {'revenue': 35, 'cost': 34},\n",
    "    'twitter': {'revenue': 11, 'cost': 24},\n",
    "}\n",
    "\n",
    "for platform, finance in results.items():\n",
    "    finance['ROI'] = round(((finance['revenue'] / finance['cost'] - 1) * 100),2)\n",
    "\n",
    "print(results)"
   ]
  },
  {
   "cell_type": "markdown",
   "metadata": {},
   "source": [
    "## Excercise 4"
   ]
  },
  {
   "cell_type": "code",
   "execution_count": 52,
   "metadata": {},
   "outputs": [
    {
     "name": "stdout",
     "output_type": "stream",
     "text": [
      "[255, 200, 120, 250, 42, 98]\n",
      "Максимальный объем продаж на рекламном канале: facebook\n"
     ]
    }
   ],
   "source": [
    "stats = {'facebook': 255, 'yandex': 200, 'vk': 120, 'google': 250, 'email': 42, 'ok': 98}\n",
    "\n",
    "top_stats = [stat for stat in stats.values()]\n",
    "print(top_stats)\n",
    "\n",
    "for platform, stat in stats.items():\n",
    "    if stat == max(top_stats):\n",
    "        print('Максимальный объем продаж на рекламном канале:',platform)"
   ]
  },
  {
   "cell_type": "markdown",
   "metadata": {},
   "source": [
    "## Excercise 5"
   ]
  },
  {
   "cell_type": "code",
   "execution_count": 39,
   "metadata": {
    "scrolled": true
   },
   "outputs": [
    {
     "name": "stdout",
     "output_type": "stream",
     "text": [
      "{'microwave': {2010: {'assistant': {'banana': 'superhacka'}}}}\n"
     ]
    }
   ],
   "source": [
    "my_list = ['microwave',2010,'assistant','banana','superhacka']\n",
    "\n",
    "last_element = my_list[-1]\n",
    "for element in list(reversed(my_list))[1:]:\n",
    "    last_element = {element:last_element}\n",
    "    \n",
    "print(last_element)"
   ]
  },
  {
   "cell_type": "markdown",
   "metadata": {},
   "source": [
    "## Excercise 6"
   ]
  },
  {
   "cell_type": "code",
   "execution_count": 9,
   "metadata": {
    "scrolled": true
   },
   "outputs": [
    {
     "name": "stdout",
     "output_type": "stream",
     "text": [
      "Итого\n",
      "Сыр - 70 гр\n",
      "Томаты - 2 шт\n",
      "Огурцы - 20 гр\n",
      "Маслины - 10 гр\n",
      "Оливковое масло - 20 мл\n",
      "Салат - 10 гр\n",
      "Перец - 20 гр\n",
      "Колбаса - 30 гр\n",
      "Бекон - 30 гр\n",
      "Оливки - 10 гр\n",
      "Томаты - 20 гр\n",
      "Тесто - 100 гр\n",
      "Лимон - 1 шт\n",
      "Вода - 200 мл\n",
      "Сахар - 10 гр\n",
      "Лайм - 20 гр\n"
     ]
    }
   ],
   "source": [
    "cook_book = {\n",
    "  'салат': [\n",
    "     {'ingridient_name': 'сыр', 'quantity': 50, 'measure': 'гр'},\n",
    "     {'ingridient_name': 'томаты', 'quantity': 2, 'measure': 'шт'},\n",
    "     {'ingridient_name': 'огурцы', 'quantity': 20, 'measure': 'гр'},\n",
    "     {'ingridient_name': 'маслины', 'quantity': 10, 'measure': 'гр'},\n",
    "     {'ingridient_name': 'оливковое масло', 'quantity': 20, 'measure': 'мл'},\n",
    "     {'ingridient_name': 'салат', 'quantity': 10, 'measure': 'гр'},\n",
    "     {'ingridient_name': 'перец', 'quantity': 20, 'measure': 'гр'}\n",
    "    ],\n",
    "  'пицца': [\n",
    "     {'ingridient_name': 'сыр', 'quantity': 20, 'measure': 'гр'},\n",
    "     {'ingridient_name': 'колбаса', 'quantity': 30, 'measure': 'гр'},\n",
    "     {'ingridient_name': 'бекон', 'quantity': 30, 'measure': 'гр'},\n",
    "     {'ingridient_name': 'оливки', 'quantity': 10, 'measure': 'гр'},\n",
    "     {'ingridient_name': 'томаты', 'quantity': 20, 'measure': 'гр'},\n",
    "     {'ingridient_name': 'тесто', 'quantity': 100, 'measure': 'гр'},   \n",
    "    ],\n",
    "  'лимонад': [\n",
    "     {'ingridient_name': 'лимон', 'quantity': 1, 'measure': 'шт'},\n",
    "     {'ingridient_name': 'вода', 'quantity': 200, 'measure': 'мл'},\n",
    "     {'ingridient_name': 'сахар', 'quantity': 10, 'measure': 'гр'},\n",
    "     {'ingridient_name': 'лайм', 'quantity': 20, 'measure': 'гр'},    \n",
    "    ]\n",
    "}\n",
    "\n",
    "#serving_size = int(input('Введите количество порций'))\n",
    "\n",
    "res = {}\n",
    "for recipe in cook_book.values():\n",
    "    #print(recipe)\n",
    "    for line in recipe:\n",
    "        #print(line)\n",
    "        key = (line['ingridient_name'],line['measure']) # создаем ключ (ингридиент, размерность) для идентификации всех повторяющихся позиций\n",
    "        res.setdefault(key,0) # ставим ключу значение по умолчанию\n",
    "        res[key] += line['quantity'] # значение ключа - масса (или кол-во) выбранного ингридиента\n",
    "        # если обнаружится еще одна повторяющаяся строчка (ингридиент, размерность), то прибавим к уже имеющейся\n",
    "\n",
    "print('Итого')\n",
    "\n",
    "for key, value in res.items():\n",
    "    print(f'{key[0].capitalize()} - {value} {key[1]}')"
   ]
  }
 ],
 "metadata": {
  "kernelspec": {
   "display_name": "Python 3",
   "language": "python",
   "name": "python3"
  },
  "language_info": {
   "codemirror_mode": {
    "name": "ipython",
    "version": 3
   },
   "file_extension": ".py",
   "mimetype": "text/x-python",
   "name": "python",
   "nbconvert_exporter": "python",
   "pygments_lexer": "ipython3",
   "version": "3.8.5"
  }
 },
 "nbformat": 4,
 "nbformat_minor": 4
}
